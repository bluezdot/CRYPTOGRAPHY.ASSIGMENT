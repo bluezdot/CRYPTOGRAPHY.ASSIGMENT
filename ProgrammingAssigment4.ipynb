{
  "nbformat": 4,
  "nbformat_minor": 0,
  "metadata": {
    "colab": {
      "name": "ProgrammingAssigment4.ipynb",
      "provenance": [],
      "collapsed_sections": [
        "P0nlc79BGF3S",
        "2lVR-vAUGc5R",
        "zbTtcFbN2O8J",
        "eG20IZmBJpAY",
        "P9ww1WjCPXgj"
      ]
    },
    "kernelspec": {
      "name": "python3",
      "display_name": "Python 3"
    },
    "language_info": {
      "name": "python"
    }
  },
  "cells": [
    {
      "cell_type": "markdown",
      "source": [
        "## Programming Assignment 4\n",
        "## Phạm Thanh Trường\n",
        "## 20194460\n"
      ],
      "metadata": {
        "id": "P0nlc79BGF3S"
      }
    },
    {
      "cell_type": "code",
      "source": [
        "!pip install gmpy2"
      ],
      "metadata": {
        "colab": {
          "base_uri": "https://localhost:8080/"
        },
        "id": "MpiH6CHQBN1q",
        "outputId": "95e051d4-364f-440c-e7fc-9fa7d0329f14"
      },
      "execution_count": 1,
      "outputs": [
        {
          "output_type": "stream",
          "name": "stdout",
          "text": [
            "Collecting gmpy2\n",
            "  Downloading gmpy2-2.1.2-cp37-cp37m-manylinux_2_17_x86_64.manylinux2014_x86_64.whl (3.6 MB)\n",
            "\u001b[K     |████████████████████████████████| 3.6 MB 5.2 MB/s \n",
            "\u001b[?25hInstalling collected packages: gmpy2\n",
            "Successfully installed gmpy2-2.1.2\n"
          ]
        }
      ]
    },
    {
      "cell_type": "code",
      "source": [
        "from gmpy2 import mpz, isqrt, invert, digits, powmod, is_prime, divexact, mul"
      ],
      "metadata": {
        "id": "FEwZf3sTGbZi"
      },
      "execution_count": 34,
      "outputs": []
    },
    {
      "cell_type": "markdown",
      "source": [
        "## Question 1\n",
        "\n",
        "The following modulus 𝑁 is a products of two primes p and q where $|p-q| < 2N^\\frac{1}{4}$. Find the smaller of the two factors and enter it as a decimal integer.  \n",
        ">N = 179769313486231590772930519078902473361797697894230657273430081157732675805505620686985379449212982959585501387537164015710139858647833778606925583497541085196591615128057575940752635007475935288710823649949940771895617054361149474865046711015101563940680527540071584560878577663743040086340742855278549092581\n",
        "\n"
      ],
      "metadata": {
        "id": "2lVR-vAUGc5R"
      }
    },
    {
      "cell_type": "markdown",
      "source": [
        "Let:\n",
        "<center>\n",
        "$A=\\frac{p+q}{2}$\n",
        "</center>  \n",
        "\n",
        "According to Cauchy's inequality:\n",
        "<center>\n",
        "$2A=p+q\\ge2\\sqrt{pq}=2\\sqrt{N}$\n",
        "</center>\n",
        "<center>\n",
        "$=>A\\ge\\sqrt{N}$\n",
        "</center>\n",
        "\n",
        "Since $p$ and $q$ are prime numbers, we know that $p+q$ is even and thus $A$ is an integer.  \n",
        "We observe that:  \n",
        "<center>\n",
        "$A^2-N=(\\frac{p+q}{2})^2-N=\\frac{p^2-2pq+q^2}{4}=\\frac{(p-q)^2}{4}$\n",
        "</center>  \n",
        "\n",
        "Also:  \n",
        "<center>\n",
        "$A-\\sqrt{N}=\\frac{A^2-N}{A+\\sqrt{N}}=\\frac{(p-q)^2/4}{A+\\sqrt{N}}$\n",
        "</center>  \n",
        "\n",
        "Since $A\\ge\\sqrt{N}$, and $|p-q|\\lt2N^\\frac{1}{4}$, it follows that:\n",
        "<center>\n",
        "$A-\\sqrt{N}\\le\\frac{4\\sqrt{N}}{8\\sqrt{N}}=\\frac{1}{2}\\lt1$\n",
        "</center>  \n",
        "\n",
        "So $A$ is greater than $N$ but the difference is smaller than 1. $A$ is also an integer, thus can be calculated by rounding $\\sqrt{N}$ up to the closest integer above.  \n",
        "Since $A$ is the exact mid-point between $p$ and $q$, there exists an integer x such that $p=A-x$ and $q=A+x$ (assuming that $p\\lt q$). Then:  \n",
        "<center>\n",
        "$N=pq=(A-x)(A+x)=A^2-x^2$\n",
        "</center>  \n",
        "\n",
        "Therefore, $x=\\sqrt{A^2-N}$."
      ],
      "metadata": {
        "id": "ykzmU-xgD_gZ"
      }
    },
    {
      "cell_type": "code",
      "source": [
        "n1 = mpz('179769313486231590772930519078902473361797697894230657273430081157732675805505620686985379449212982959585501387537164015710139858647833778606925583497541085196591615128057575940752635007475935288710823649949940771895617054361149474865046711015101563940680527540071584560878577663743040086340742855278549092581')\n",
        "A1 = isqrt(n1) + 1 # calculate A = sqrt(n1) + 1 = (p+q)/2 \n",
        "p1 = A1 - isqrt(A1**2 - n1) # smaller factor: p = A - x,\n",
        "print(\"RESULT:\")\n",
        "print(f'The smaller factor is: {p1}')\n",
        "\n",
        "# check p is a prime number\n",
        "if is_prime(p1):\n",
        "  print(\"The number found is confirmed to be a prime !\")\n",
        "else:\n",
        "  print(\"Not prime, please check !\")\n",
        "\n",
        "# check again bigger factor is prime and pq = N\n",
        "print(\"CHECK:\")\n",
        "q1 = A1 +isqrt(A1**2 - n1) # bigger factor: q = A + x\n",
        "print(f'The bigger factor is: {q1}')\n",
        "\n",
        "# check q is a prime number\n",
        "if is_prime(q1):\n",
        "  print(\"The number found is confirmed to be a prime !\")\n",
        "else:\n",
        "  print(\"Not prime, please check !\")\n",
        "\n",
        "# check pq = N\n",
        "if (p1 * q1 == n1):\n",
        "  print(\"pq = N. It's Ok\")\n",
        "else:\n",
        "  print(\"pq is not equal to N\")"
      ],
      "metadata": {
        "colab": {
          "base_uri": "https://localhost:8080/"
        },
        "id": "fquUf44vzXDq",
        "outputId": "c34e1d9d-5bfa-4558-93e6-09b312593e0f"
      },
      "execution_count": 19,
      "outputs": [
        {
          "output_type": "stream",
          "name": "stdout",
          "text": [
            "RESULT:\n",
            "The smaller factor is: 13407807929942597099574024998205846127479365820592393377723561443721764030073662768891111614362326998675040546094339320838419523375986027530441562135724301\n",
            "The number found is confirmed to be a prime !\n",
            "CHECK:\n",
            "The bigger factor is: 13407807929942597099574024998205846127479365820592393377723561443721764030073778560980348930557750569660049234002192590823085163940025485114449475265364281\n",
            "The number found is confirmed to be a prime !\n",
            "pq = N. It's Ok\n"
          ]
        }
      ]
    },
    {
      "cell_type": "markdown",
      "source": [
        "## Question 2\n",
        "\n",
        "The following modulus 𝑁 is a products of two primes 𝑝 and 𝑞 where $|𝑝 − 𝑞| < 2^{11}𝑁^\\frac{1}{4}$. Find the smaller of the two factors and enter it as a decimal integer. \n",
        "Hint: in this case $𝐴 − \\sqrt{𝑁} < 2^{20}$ so try scanning for 𝐴 from $\\sqrt{𝑁}$ upwards, until you succeed in factoring 𝑁.  \n",
        ">N = 648455842808071669662824265346772278726343720706976263060439070378797308618081116462714015276061417569195587321840254520655424906719892428844841839353281972988531310511738648965962582821502504990264452100885281673303711142296421027840289307657458645233683357077834689715838646088239640236866252211790085787877"
      ],
      "metadata": {
        "id": "zbTtcFbN2O8J"
      }
    },
    {
      "cell_type": "markdown",
      "source": [
        "We choose $A=\\frac{p+q}{2}$:  \n",
        "<center>\n",
        "$A-\\sqrt{N} \\le \\frac{2^{22}\\sqrt{N}}{8\\sqrt{N}}=2^{19}$\n",
        "</center>  \n",
        "\n",
        "Also, A is an integer, we will scan all integers starting from $\\sqrt{N}$ to find A. This scanning process wouldn't take more than $2^{20}$ attemps.\n",
        "\n",
        "Again, similar to question 1, $p=A-x$, where $x=\\sqrt{A^2-N}$."
      ],
      "metadata": {
        "id": "rvkYMx7UGr5U"
      }
    },
    {
      "cell_type": "code",
      "source": [
        "n2 = mpz('648455842808071669662824265346772278726343720706976263060439070378797308618081116462714015276061417569195587321840254520655424906719892428844841839353281972988531310511738648965962582821502504990264452100885281673303711142296421027840289307657458645233683357077834689715838646088239640236866252211790085787877')\n",
        "A2 = isqrt(n2)\n",
        "\n",
        "# scan for intrger from sqrt(n)\n",
        "while True:\n",
        "    try:\n",
        "        x2 = isqrt(A2**2 - n2)\n",
        "        if n2 == (A2 - x2) * (A2 + x2): # check if n = pq\n",
        "            break\n",
        "    except ValueError:\n",
        "        pass\n",
        "    \n",
        "    A2 += 1\n",
        "p2 = A2 - x2\n",
        "print(\"RESULT:\")\n",
        "print(f'The smaller factor is: {p2}')\n",
        "\n",
        "# check for prime number\n",
        "if is_prime(p2):\n",
        "  print(\"The number found is confirmed to be a prime !\")\n",
        "else:\n",
        "  print(\"Not prime, please check !\")\n",
        "\n",
        "# check for bigger factor is prime and also pq = N\n",
        "print(\"CHECK:\")\n",
        "q2 = A2 + x2 # bigger factor: q = A + x\n",
        "print(f'The bigger factor is: {q2}')\n",
        "\n",
        "# check q is a prime number\n",
        "if is_prime(q2):\n",
        "  print(\"The number found is confirmed to be a prime !\")\n",
        "else:\n",
        "  print(\"Not prime, please check !\")\n",
        "\n",
        "# check pq = N\n",
        "if (p1 * q1 == n1):\n",
        "  print(\"pq = N. It's Ok\")\n",
        "else:\n",
        "  print(\"pq is not equal to N\")\n"
      ],
      "metadata": {
        "colab": {
          "base_uri": "https://localhost:8080/"
        },
        "id": "xW7OAmyyF6ag",
        "outputId": "d7f17238-addc-4aad-883d-c8a3678394a9"
      },
      "execution_count": 22,
      "outputs": [
        {
          "output_type": "stream",
          "name": "stdout",
          "text": [
            "RESULT:\n",
            "The smaller factor is: 25464796146996183438008816563973942229341454268524157846328581927885777969985222835143851073249573454107384461557193173304497244814071505790566593206419759\n",
            "The number found is confirmed to be a prime !\n",
            "CHECK:\n",
            "The bigger factor is: 25464796146996183438008816563973942229341454268524157846328581927885777970106398054491246526970814167632563509541784734741871379856682354747718346471375403\n",
            "The number found is confirmed to be a prime !\n",
            "pq = N. It's Ok\n"
          ]
        }
      ]
    },
    {
      "cell_type": "markdown",
      "source": [
        "## Question 3 \n",
        "The following modulus $𝑁$ is a products of two primes $𝑝$ and $𝑞$ where $|3𝑝 − 2𝑞| < 𝑁^\\frac{1}{4}$. Find the smaller of the two factors and enter it as a decimal integer.  \n",
        "Hint: use the calculation below to show that $\\sqrt{6𝑁}$ is close to $\\frac{3𝑝+2𝑞}{2}$ and then adapt the method above to factor 𝑁.  \n",
        ">N = 720062263747350425279564435525583738338084451473999841826653057981916355690188337790423408664187663938485175264994017897083524079135686877441155132015188279331812309091996246361896836573643119174094961348524639707885238799396839230364676670221627018353299443241192173812729276147530748597302192751375739387929"
      ],
      "metadata": {
        "id": "eG20IZmBJpAY"
      }
    },
    {
      "cell_type": "code",
      "execution_count": 33,
      "metadata": {
        "colab": {
          "base_uri": "https://localhost:8080/"
        },
        "id": "bOwmW3VvBCV0",
        "outputId": "e2ac2942-e2ca-4e87-982f-0d4c24450280"
      },
      "outputs": [
        {
          "output_type": "stream",
          "name": "stdout",
          "text": [
            "RESULT:\n",
            "The smaller factor is: 21909849592475533092273988531583955898982176093344929030099423584127212078126150044721102570957812665127475051465088833555993294644190955293613411658629209\n",
            "The number found is confirmed to be a prime !\n",
            "CHECK:\n",
            "The bigger factor is: 32864774388713299638410982797375933848473264140017393545149135376190818117189240035825816494954711821626076210364113848440012285863311027426121370050758081\n",
            "The number found is confirmed to be a prime !\n",
            "pq = N. It's Ok\n"
          ]
        }
      ],
      "source": [
        "n3 = mpz('720062263747350425279564435525583738338084451473999841826653057981916355690188337790423408664187663938485175264994017897083524079135686877441155132015188279331812309091996246361896836573643119174094961348524639707885238799396839230364676670221627018353299443241192173812729276147530748597302192751375739387929')\n",
        "a3 = isqrt(n3 * 24) + 1 # a = sqrt(24n) + 1, to get the closest integer above\n",
        "x3 = (a3**2) - 24*n3 # x = a^2 - 24n\n",
        "assert x3 > 0 \n",
        "p3 = divexact(a3 - isqrt(x3), 6) # p = a - sqrt(x3)\n",
        "print(\"RESULT:\")\n",
        "print(f'The smaller factor is: {p3}')\n",
        "\n",
        "# check for smaller factor is prime\n",
        "if is_prime(p3):\n",
        "  print(\"The number found is confirmed to be a prime !\")\n",
        "else:\n",
        "  print(\"Not prime, please check !\")\n",
        "\n",
        "# check for bigger factor is prime and pq = n\n",
        "print(\"CHECK:\")\n",
        "q3 = divexact((a3 + isqrt(x3)), 4)\n",
        "print(f'The bigger factor is: {q3}')\n",
        "\n",
        "# check for q is prime\n",
        "if is_prime(q3):\n",
        "  print(\"The number found is confirmed to be a prime !\")\n",
        "else:\n",
        "  print(\"Not prime, please check !\")\n",
        "\n",
        "# check for pq = n\n",
        "if p3 * q3 == n3:\n",
        "  print(\"pq = N. It's Ok\")\n",
        "else:\n",
        "  print(\"pq is not equal to N\")\n"
      ]
    },
    {
      "cell_type": "markdown",
      "source": [
        "## Question 4\n",
        "\n",
        "The challenge ciphertext provided below is the result of encrypting a short secret ASCII plaintext using the RSA modulus given in the first factorization challenge. The encryption exponent used is $e=65537$. The ASCII plaintext was encoded using PKCS v1.5 before the RSA function was applied  \n",
        "\n",
        "Use the factorization you obtained for this RSA modulus to decrypt this challenge ciphertext and enter the resulting English plaintext in the box below. Recall that the factorization of $N$ enables you to compute $\\varphi(N)$ from which you can obtain the RSA decryption exponent.  \n",
        "\n",
        ">Challenge ciphertext (as a decimal integer):\n",
        "22096451867410381776306561134883418017410069787892831071731839143676135600120538004282329650473509424343946219751512256465839967942889460764542040581564748988013734864120452325229320176487916666402997509188729971690526083222067771600019329260870009579993724077458967773697817571267229951148662959627934791540\n",
        "\n",
        ">N = 179769313486231590772930519078902473361797697894230657273430081157732675805505620686985379449212982959585501387537164015710139858647833778606925583497541085196591615128057575940752635007475935288710823649949940771895617054361149474865046711015101563940680527540071584560878577663743040086340742855278549092581"
      ],
      "metadata": {
        "id": "P9ww1WjCPXgj"
      }
    },
    {
      "cell_type": "markdown",
      "source": [
        "**RSA** \n",
        "\n",
        "Randomize algorithm $G()$:  \n",
        "  - Choose random primes $p$, $q$. Set $N=pq$.\n",
        "  - Choose integer $e$, $d$ such that $ed=1$ mod $\\varphi(N)$.\n",
        "  - Output $pk=(N,e)$, $sk=(N,d)$.  \n",
        "\n",
        "Algorithm $F(pk, x)$:  $RSA(x)=x^e$ (in ZN)\n",
        "\n",
        "Algorithm $F^{-1}(sk, y)$: $y^d = RSA(x)^d = x^{ed} = (x^{\\varphi{N}})^kx = x$"
      ],
      "metadata": {
        "id": "znqcc13PQ56_"
      }
    },
    {
      "cell_type": "code",
      "source": [
        "c4 = mpz('22096451867410381776306561134883418017410069787892831071731839143676135600120538004282329650473509424343946219751512256465839967942889460764542040581564748988013734864120452325229320176487916666402997509188729971690526083222067771600019329260870009579993724077458967773697817571267229951148662959627934791540')\n",
        "n4 = mpz('179769313486231590772930519078902473361797697894230657273430081157732675805505620686985379449212982959585501387537164015710139858647833778606925583497541085196591615128057575940752635007475935288710823649949940771895617054361149474865046711015101563940680527540071584560878577663743040086340742855278549092581')\n",
        "e = mpz(65537)\n",
        "\n",
        "# We calculate the prime factors p and q just like in question 1\n",
        "a4 = isqrt(n4) + 1\n",
        "x4 = isqrt(a4**2 - n4)\n",
        "p4 = a4 - x4\n",
        "q4 = a4 + x4\n",
        "\n",
        "fi = mul((p4-1), (q4-1)) # fi = (p-1)*(q-1)\n",
        "\n",
        "# sk = (n, d) where e*d = 1 mod fi(n)\n",
        "# We can retrieve d by invert e mod phi(N)\n",
        "d4 = invert(e, fi)\n",
        "\n",
        "m4_padded = powmod(c4, d4, n4) # r = c^d mod n\n",
        "\n",
        "# Convert padded message to hex\n",
        "# Split the hex string at the separator 0x00 and take the second half\n",
        "m4 = m4_padded.digits(16).split('00')[1]\n",
        "\n",
        "# Convert the message to ASCII string\n",
        "m4 = ''.join([chr(b) for b in bytes.fromhex(m4)])\n",
        "print(f'The message is: \"{m4}\"')"
      ],
      "metadata": {
        "id": "oaTtBL5oBKuu",
        "colab": {
          "base_uri": "https://localhost:8080/"
        },
        "outputId": "090697f5-f948-41fd-89b6-dd94c93f2720"
      },
      "execution_count": 37,
      "outputs": [
        {
          "output_type": "stream",
          "name": "stdout",
          "text": [
            "The message is: \"Factoring lets us break RSA.\"\n"
          ]
        }
      ]
    },
    {
      "cell_type": "code",
      "source": [
        ""
      ],
      "metadata": {
        "id": "jqw1PkNTTP1J"
      },
      "execution_count": null,
      "outputs": []
    }
  ]
}