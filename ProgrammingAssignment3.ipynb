{
  "nbformat": 4,
  "nbformat_minor": 0,
  "metadata": {
    "colab": {
      "name": "ProgrammingAssignment3.ipynb",
      "provenance": [],
      "collapsed_sections": [],
      "authorship_tag": "ABX9TyN3h0voSL/if6vAWyfheFxA",
      "include_colab_link": true
    },
    "kernelspec": {
      "name": "python3",
      "display_name": "Python 3"
    },
    "language_info": {
      "name": "python"
    }
  },
  "cells": [
    {
      "cell_type": "markdown",
      "metadata": {
        "id": "view-in-github",
        "colab_type": "text"
      },
      "source": [
        "<a href=\"https://colab.research.google.com/github/bluezdot/CRYPTOGRAPHY.ASSIGMENT/blob/main/ProgrammingAssignment3.ipynb\" target=\"_parent\"><img src=\"https://colab.research.google.com/assets/colab-badge.svg\" alt=\"Open In Colab\"/></a>"
      ]
    },
    {
      "cell_type": "markdown",
      "source": [
        "### • Each blocks is 1KB\n",
        "### • Hash from the end\n",
        "### • Hash of a block is appended to the previous one"
      ],
      "metadata": {
        "id": "1RY0Q-hhuObp"
      }
    },
    {
      "cell_type": "code",
      "execution_count": null,
      "metadata": {
        "colab": {
          "base_uri": "https://localhost:8080/"
        },
        "id": "iTphzrb1QI9Z",
        "outputId": "b5aac6d6-32eb-449d-b41e-524346d03887"
      },
      "outputs": [
        {
          "output_type": "stream",
          "name": "stdout",
          "text": [
            "Requirement already satisfied: pycryptodome in /usr/local/lib/python3.7/dist-packages (3.12.0)\n"
          ]
        }
      ],
      "source": [
        "pip install pycryptodome"
      ]
    },
    {
      "cell_type": "code",
      "source": [
        "import sys\n",
        "import os\n",
        "\n",
        "from Crypto.Hash import SHA256"
      ],
      "metadata": {
        "id": "R3BIgjRcQOke"
      },
      "execution_count": null,
      "outputs": []
    },
    {
      "cell_type": "markdown",
      "source": [
        "# COUNT BLOCKS"
      ],
      "metadata": {
        "id": "I3iR99DU2ntK"
      }
    },
    {
      "cell_type": "code",
      "source": [
        "def count_block(file_size, block_size):\n",
        "    number_of_blocks = file_size // block_size # number of blocks with size 1KB\n",
        "    if (file_size % block_size) != 0:\n",
        "        number_of_blocks = file_size // block_size + 1 # one block with size < 1KB\n",
        "    return number_of_blocks"
      ],
      "metadata": {
        "id": "yoUBdNVIyVtm"
      },
      "execution_count": null,
      "outputs": []
    },
    {
      "cell_type": "markdown",
      "source": [
        "# GET BLOCKS LIST"
      ],
      "metadata": {
        "id": "AxQevetU22XQ"
      }
    },
    {
      "cell_type": "code",
      "source": [
        "def get_block_list(file_object, file_size, block_size, last_block_size): # get list of block in reverse order: [bn, bn-1, ... , b0]\n",
        "\t\ti = 0 \n",
        "\t\tlast_pos = file_size # last byte\n",
        "\n",
        "\t\twhile last_pos > 0:\n",
        "\t\t\t\tsize = block_size # block size (1KB)\n",
        "\t\t\t\tif(i == 0):\n",
        "\t\t\t\t\t\tsize = last_block_size # last block size (<1KB)\n",
        "\n",
        "\t\t\t\tfile_object.seek(last_pos - size) # get the first position of last block\n",
        "\t\t\t\tdata = file_object.read(block_size) # read last block\n",
        "\t\t\t\tif not data:\n",
        "\t\t\t\t\t\tbreak\n",
        "\n",
        "        # move to previous block\n",
        "\t\t\t\ti += 1 \n",
        "\t\t\t\tlast_pos -= size\n",
        "\t\t\t\tyield data"
      ],
      "metadata": {
        "id": "UrPcTwAkVWg6"
      },
      "execution_count": null,
      "outputs": []
    },
    {
      "cell_type": "markdown",
      "source": [
        "# HASH\n",
        "\n"
      ],
      "metadata": {
        "id": "ylP-mOlE2wPp"
      }
    },
    {
      "cell_type": "code",
      "source": [
        "def hash_video(path, BS):\n",
        "    file_size = os.path.getsize(path) # file size in bytes\n",
        "    number_of_blocks = count_block(file_size, BS) # number of block \n",
        "    last_block_size = file_size % BS # size of the last block (<1KB)\n",
        "    print(\"File:\", path, \"Size:\", file_size, \"bytes; \") # prompt\n",
        "    file_data = open(path, 'rb') # read the file in bytes\n",
        "\n",
        "    block_list = list(get_block_list(file_data, file_size, BS , last_block_size)) # get the list of blocks\n",
        "    result = '' # to store h0\n",
        "\n",
        "    # calculate h0\n",
        "    for block in block_list:\n",
        "        sha256 = SHA256.new(block) # put block into sha256\n",
        "        if result:\n",
        "            sha256.update(result) # appending result to the end of current block, result = hash of block right after\n",
        "        result = sha256.digest() # hash block\n",
        "    file_data.close()\n",
        "    return result"
      ],
      "metadata": {
        "id": "s1FqDYyQQi45"
      },
      "execution_count": null,
      "outputs": []
    },
    {
      "cell_type": "markdown",
      "source": [
        "# RUN MAIN"
      ],
      "metadata": {
        "id": "Hy5EkHjA3FA3"
      }
    },
    {
      "cell_type": "markdown",
      "source": [
        "You need to provide h0_check and path to video here"
      ],
      "metadata": {
        "id": "MHM8QKL1OjE_"
      }
    },
    {
      "cell_type": "code",
      "source": [
        "if __name__ == \"__main__\":\n",
        "    h0_check = \"03c08f4ee0b576fe319338139c045c89c3e8e9409633bea29442e21425006ea8\" # hash to check\n",
        "    BS = 1024 # block size 1KB\n",
        "    path = \"/content/birthday.mp4\" # add path\n",
        "    h0 = hash_video(path, BS)\n",
        "    print(\"h0 to check:\", h0_check, \"\\nh0 found: \", h0.hex(),\"\\n\")\n",
        "    if h0_check == h0.hex():\n",
        "        print(\"VERIFICATE SUCCESSFULLY !!!\")\n",
        "    else:\n",
        "        print(\"WRONG !!!\")"
      ],
      "metadata": {
        "colab": {
          "base_uri": "https://localhost:8080/"
        },
        "id": "17y1cDKfStXX",
        "outputId": "0d831d1b-41a5-4468-8ae3-9f3c9b664602"
      },
      "execution_count": null,
      "outputs": [
        {
          "output_type": "stream",
          "name": "stdout",
          "text": [
            "File: /content/birthday.mp4 Size: 16927313 bytes; \n",
            "h0 to check: 03c08f4ee0b576fe319338139c045c89c3e8e9409633bea29442e21425006ea8 \n",
            "h0 found:  03c08f4ee0b576fe319338139c045c89c3e8e9409633bea29442e21425006ea8 \n",
            "\n",
            "VERIFICATE SUCCESSFULLY !!!\n"
          ]
        }
      ]
    },
    {
      "cell_type": "code",
      "source": [
        ""
      ],
      "metadata": {
        "id": "BkGVoUNbPJwx"
      },
      "execution_count": null,
      "outputs": []
    }
  ]
}