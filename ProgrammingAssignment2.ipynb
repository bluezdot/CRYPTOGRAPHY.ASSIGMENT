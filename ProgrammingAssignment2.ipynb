{
  "nbformat": 4,
  "nbformat_minor": 0,
  "metadata": {
    "colab": {
      "name": "ProgrammingAssignment2.ipynb",
      "provenance": [],
      "collapsed_sections": []
    },
    "kernelspec": {
      "name": "python3",
      "display_name": "Python 3"
    },
    "language_info": {
      "name": "python"
    }
  },
  "cells": [
    {
      "cell_type": "markdown",
      "metadata": {
        "id": "G837Tkt29h9_"
      },
      "source": [
        "# IMPORT"
      ]
    },
    {
      "cell_type": "code",
      "metadata": {
        "colab": {
          "base_uri": "https://localhost:8080/"
        },
        "id": "z4ua7TkL1s4g",
        "outputId": "215fc6fa-ffad-4b4e-8bb2-8f04733e01d0"
      },
      "source": [
        "pip install pycryptodome"
      ],
      "execution_count": 167,
      "outputs": [
        {
          "output_type": "stream",
          "name": "stdout",
          "text": [
            "Requirement already satisfied: pycryptodome in /usr/local/lib/python3.7/dist-packages (3.11.0)\n"
          ]
        }
      ]
    },
    {
      "cell_type": "code",
      "metadata": {
        "id": "12ys-oEh1t9e"
      },
      "source": [
        "from Crypto.Cipher import AES\n",
        "from math import ceil"
      ],
      "execution_count": 168,
      "outputs": []
    },
    {
      "cell_type": "markdown",
      "metadata": {
        "id": "7C3-Cd6v9q5f"
      },
      "source": [
        "# FUNCTION\n"
      ]
    },
    {
      "cell_type": "code",
      "metadata": {
        "id": "RffF25ec9shT",
        "colab": {
          "base_uri": "https://localhost:8080/",
          "height": 35
        },
        "outputId": "52924a88-9f24-4256-fec2-4cb8b8a4ab94"
      },
      "source": [
        "def convert_hex_str_to_int_list(string):\n",
        "    return [int(string[i: i+2], 16) for i in range(0, len(string), 2)]\n",
        "\n",
        "'''\n",
        "Function to convert a hex_string -> list of int (each 2 bytes)\n",
        "'''"
      ],
      "execution_count": 169,
      "outputs": [
        {
          "output_type": "execute_result",
          "data": {
            "application/vnd.google.colaboratory.intrinsic+json": {
              "type": "string"
            },
            "text/plain": [
              "'\\nFunction to convert a hex_string -> list of int (each 2 bytes)\\n'"
            ]
          },
          "metadata": {},
          "execution_count": 169
        }
      ]
    },
    {
      "cell_type": "markdown",
      "metadata": {
        "id": "-aRI-GEOec_B"
      },
      "source": [
        "### CBC"
      ]
    },
    {
      "cell_type": "code",
      "metadata": {
        "id": "4jrxE15N-IQN"
      },
      "source": [
        "def decrypt_cbc(key, cipher):\n",
        "    \n",
        "    key_list = convert_hex_str_to_int_list(key) # string -> list of int\n",
        "    cipher_list_contain_iv = convert_hex_str_to_int_list(cipher) # IV | y0 | y1 | ... | yn\n",
        "    block_size = len(key_list) # size of 1 block \n",
        "    number_of_blocks = ceil(len(cipher_list_contain_iv)/len(key_list)) # number of cipher blocks\n",
        "    aes_decoder = AES.new(bytes(key_list), AES.MODE_ECB) # aes decoder\n",
        "    iv_list, cipher_list = cipher_list_contain_iv[:block_size], cipher_list_contain_iv[block_size:] # extract iv and cipher from initial cipher_list IV | y0 | y1 | ... | yn\n",
        "    iv = bytes(iv_list) # -> stringbytes\n",
        "\n",
        "    message_list = [] # array to append message blocks after loop\n",
        "    for i in range(number_of_blocks): # loop to calculate each block of plaintext\n",
        "        dec = aes_decoder.decrypt(bytes(cipher_list[i*block_size : (i+1)*block_size])) # dec = DEC(key, cipher)\n",
        "        message = [iv[j] ^ dec[j] for j in range(len(dec))] # message = iv XOR DEC(key, cipher)\n",
        "        message_list.extend(message) # add block of plaintext [m0, m1, ...]\n",
        "        iv = bytes(cipher_list[i*block_size : (i+1)*block_size]) # set new iv for next iteration\n",
        "\n",
        "    return \"\".join([chr(x) for x in message_list[: len(message_list) - message_list[len(message_list)-1]]]) # [m0, m1, ...] -> message\n"
      ],
      "execution_count": 170,
      "outputs": []
    },
    {
      "cell_type": "code",
      "metadata": {
        "id": "opSyRXluJFTy"
      },
      "source": [
        "def encrypt_cbc(key, plaintext, iv):\n",
        "    key_list = convert_hex_str_to_int_list(key) # string -> list of int\n",
        "    plaintext_list = convert_hex_str_to_int_list(key) #  m0 | m1 | ... | mn\n",
        "    block_size = len(key_list) # size of 1 block\n",
        "    number_of_blocks = ceil(len(plaintext_list)/len((key_list))) # numbers of block\n",
        "    plaintext_list = padding(plaintext_list, block_size) # padding step\n",
        "    aes_decoder = AES.new(bytes(key_list), AES.MODE_ECB) # aes decoder\n",
        "    iv = convert_hex_str_to_int_list(iv) # iv string -> list of int\n",
        "\n",
        "    cipher_list = [] # array to append message\n",
        "    cipher_list.extend(iv) # cipher_list = iv | .. | .. | ..\n",
        "    for i in range(number_of_blocks): # loop to encrypt each block\n",
        "        plain = plaintext_list[i*block_size : (i+1)*block_size] # get block plaintext at step i\n",
        "        before_aes_encrypt = [iv[j] ^ plain[j] for j in range(len(block_size))] # before_aes_encrypt = iv XOR message\n",
        "        cipher = aes_decoder.encrypt(bytes(before_aes_encrypt)) # cipher = ENC(key, iv XOR m)\n",
        "        iv = cipher # new iv = cipher = ENC(key, iv XOR m)\n",
        "        cipher_list.extend(cipher) # add block of ciphertext iv | c0 | c1 | ...\n",
        "    return \"\".join([chr(x) for x in cipher_list]) # [iv, c0, c1, ...] -> ciphertext\n"
      ],
      "execution_count": 171,
      "outputs": []
    },
    {
      "cell_type": "markdown",
      "metadata": {
        "id": "VVyh5uGCeq5i"
      },
      "source": [
        "### CTR"
      ]
    },
    {
      "cell_type": "code",
      "metadata": {
        "id": "kd-ysYhN-a2-"
      },
      "source": [
        "def decrypt_ctr(key, cipher):\n",
        "\n",
        "    key_list = convert_hex_str_to_int_list(key) # string -> list of int\n",
        "    cipher_list_contain_iv = convert_hex_str_to_int_list(cipher) # IV | y0 | y1 | ... | yn\n",
        "    block_size = len(key_list) # size of 1 block\n",
        "    iv_list, cipher_list = cipher_list_contain_iv[:block_size], cipher_list_contain_iv[block_size:] # extract iv and cipher from initial cipher_list IV | y0 | y1 | ... | yn\n",
        "    number_of_blocks = ceil(len(cipher_list_contain_iv)/len(key_list)) # number of cipher blocks\n",
        "    \n",
        "  \n",
        "    aes_decoder = AES.new(bytes(key_list), AES.MODE_ECB) # aes decoder\n",
        "    message_list = [] # array to append message blocks\n",
        "    for i in range(number_of_blocks): # loop to calculate each plaintext block\n",
        "        iv = iv_step(iv_list[:], i) # iv = iv + i\n",
        "        dec = aes_decoder.encrypt(bytes(iv)) # dec = ENC(key, iv)\n",
        "        cipher = cipher_list[i*block_size : (i+1)*block_size] # ciphertext block in step i\n",
        "        message = [dec[j] ^ cipher[j] for j in range(len(cipher))] # message = ENC(key, iv) XOR ciphertext\n",
        "        message_list.extend(message) # add block of plaintext [m0, m1, ...]\n",
        "    return \"\".join([chr(x) for x in message_list]) # [m0, m1, ...] -> message"
      ],
      "execution_count": 172,
      "outputs": []
    },
    {
      "cell_type": "code",
      "metadata": {
        "id": "v2uSqc4UexLu"
      },
      "source": [
        "def encrypt_ctr(key, plaintext, iv):\n",
        "\n",
        "    key_list = convert_hex_str_to_int_list(key) # string -> list of int\n",
        "    plaintext_list = convert_hex_str_to_int_list(plaintext) #  m0 | m1 | ... | mn\n",
        "    block_size = len(key_list) # size of 1 block \n",
        "    number_of_blocks = ceil(len(cipher_list_contain_iv)) # number of block in ciphertext\n",
        "    plaintext_list = padding(plaintext_list) # padding step\n",
        "    aes_decoder = AES.new(bytes(key_list), AES.MODE_ECB) # aes decoder\n",
        "  \n",
        "    cipher_list = [] # array to append message blocks\n",
        "    cipher_list.extend(iv) # ciphertext = iv | .. | .. |\n",
        "    for i in range(number_of_blocks): # loop to encrypt each block\n",
        "        iv = iv_step(iv_list, i) # iv = iv + 1\n",
        "        dec = aes_decoder.encrypt(bytes(iv)) # dec = ENC(key, iv)\n",
        "        plain = plain_list[i*block_size : (i+1)*block_size] # get plaintext block in step i\n",
        "        cipher = [dec[j] ^ plain[j] for j in range(len(plain))] # cipher = ENC(key, iv) XOR m \n",
        "        cipher_list.extend(cipher) # add block of cipher iv | c0 | c1 | ...\n",
        "    return \"\".join([chr(x) for x in cipher_list]) # [iv, c0, c1, ...] -> ciphertext"
      ],
      "execution_count": 173,
      "outputs": []
    },
    {
      "cell_type": "code",
      "metadata": {
        "id": "AuxBKAR9Ydcd"
      },
      "source": [
        "def iv_step(iv_list, step): # get iv + i for each step\n",
        "    iv_size = len(iv_list) # size of 1 block\n",
        "\n",
        "    # loop for calculating iv + 1\n",
        "    for i in range(iv_size - 1, -1, -1): \n",
        "        j = iv_list[i] + step\n",
        "        if j % 0xFF == j:\n",
        "            iv_list[i] = j\n",
        "            break\n",
        "        else:\n",
        "            iv_list[i] = j % 0xFF\n",
        "            step = int(j/0xFF)\n",
        "    return iv_list\n"
      ],
      "execution_count": 174,
      "outputs": []
    },
    {
      "cell_type": "markdown",
      "metadata": {
        "id": "20r_sA98y3XN"
      },
      "source": [
        "### Padding - Unpadding PCKS5"
      ]
    },
    {
      "cell_type": "code",
      "metadata": {
        "id": "sFKNkXetqhL3"
      },
      "source": [
        "def padding(plaintext_list, block_size):\n",
        "    plaintext_size = len(plaintext_list) # size of 1 block\n",
        "    if len(plaintext_list) % block_size == 0: # add dummy blocks\n",
        "        for i in range(block_size):\n",
        "            plaintext_list.extend(blocksize)\n",
        "    else: # add b block b (PKCS5)\n",
        "        remainder = len(plaintext_list) % block_size # remainder is excess part\n",
        "        need_to_add = block_size - remainder # remainder + need_to_add = size of 1 block\n",
        "        for i in range(need_to_add): # loop to add b block b\n",
        "            plaintext_list.extend(need_to_add)\n",
        "    return plaintext_list"
      ],
      "execution_count": 175,
      "outputs": []
    },
    {
      "cell_type": "code",
      "metadata": {
        "id": "NCPZ6hQpr-7S"
      },
      "source": [
        "def unpadding(plaintext_list, block_size):\n",
        "    number_of_blocks = len(plaintext_list)/block_size # numbers of block\n",
        "    last_block = plaintext_list[(number_of_blocks - 1)*block_size : number_of_blocks*block_size] # get last block for unpadding\n",
        "    if last_block[-1] == block_size: # remove all if it's a dummy block\n",
        "        plaintext_list = plaintext_list[:(number_of_blocks - 1)*block_size]\n",
        "        return plain_text\n",
        "    padding = last_block[-1] # get infor of last bytes\n",
        "    plaintext_list = plaintext_list[:number_of_blocks*block_size - padding] # remove number of bytes depend on the last bytes (PKCS5)\n",
        "    return plaintext_list "
      ],
      "execution_count": 176,
      "outputs": []
    },
    {
      "cell_type": "markdown",
      "metadata": {
        "id": "xR-PxJBj9mQv"
      },
      "source": [
        "# RUN MAIN\n"
      ]
    },
    {
      "cell_type": "code",
      "metadata": {
        "colab": {
          "base_uri": "https://localhost:8080/"
        },
        "id": "3et44b-29nzh",
        "outputId": "abc577de-7cad-47c5-d16d-04a8cb7a558f"
      },
      "source": [
        "if __name__ == \"__main__\":\n",
        "\n",
        "    # load keys and ciphertexts\n",
        "\n",
        "    key1 = key2 = '140b41b22a29beb4061bda66b6747e14'\n",
        "    key3 = key4 = '36f18357be4dbd77f050515c73fcf9f2'\n",
        "    cp1 = '4ca00ff4c898d61e1edbf1800618fb2828a226d160dad07883d04e008a7897ee2e4b7465d5290d0c0e6c6822236e1daafb94ffe0c5da05d9476be028ad7c1d81'\n",
        "    cp2 = '5b68629feb8606f9a6667670b75b38a5b4832d0f26e1ab7da33249de7d4afc48e713ac646ace36e872ad5fb8a512428a6e21364b0c374df45503473c5242a253'\n",
        "    cp3 = '69dda8455c7dd4254bf353b773304eec0ec7702330098ce7f7520d1cbbb20fc388d1b0adb5054dbd7370849dbf0b88d393f252e764f1f5f7ad97ef79d59ce29f5f51eeca32eabedd9afa9329'\n",
        "    cp4 = '770b80259ec33beb2561358a9f2dc617e46218c0a53cbeca695ae45faa8952aa0e311bde9d4e01726d3184c34451'\n",
        "\n",
        "    print(\"Plaintext1: \", decrypt_cbc(key1, cp1))\n",
        "    print(\"Plaintext2: \", decrypt_cbc(key2, cp2))\n",
        "    print(\"Plaintext3: \", decrypt_ctr(key3, cp3))\n",
        "    print(\"Plaintext4: \", decrypt_ctr(key4, cp4))"
      ],
      "execution_count": 177,
      "outputs": [
        {
          "output_type": "stream",
          "name": "stdout",
          "text": [
            "Plaintext1:  Basic CBC mode encryption needs padding.\n",
            "Plaintext2:  Our implementation uses rand. IV\n",
            "Plaintext3:  CTR mode lets you build a stream cipher from a block cipher.\n",
            "Plaintext4:  Always avoid the two time pad!\n"
          ]
        }
      ]
    }
  ]
}